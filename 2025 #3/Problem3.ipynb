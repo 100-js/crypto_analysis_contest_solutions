{
  "nbformat": 4,
  "nbformat_minor": 0,
  "metadata": {
    "colab": {
      "provenance": []
    },
    "kernelspec": {
      "name": "python3",
      "display_name": "Python 3"
    },
    "language_info": {
      "name": "python"
    }
  },
  "cells": [
    {
      "cell_type": "code",
      "source": [
        "import numpy as np\n",
        "\n",
        "AES_SBOX = [0x63, 0x7C, 0x77, 0x7B, 0xF2, 0x6B, 0x6F, 0xC5, 0x30, 0x01, 0x67, 0x2B, 0xFE, 0xD7, 0xAB, 0x76, 0xCA, 0x82, 0xC9, 0x7D, 0xFA, 0x59, 0x47, 0xF0, 0xAD, 0xD4, 0xA2, 0xAF, 0x9C, 0xA4, 0x72, 0xC0, 0xB7, 0xFD, 0x93, 0x26, 0x36, 0x3F, 0xF7, 0xCC, 0x34, 0xA5, 0xE5, 0xF1, 0x71, 0xD8, 0x31, 0x15, 0x04, 0xC7, 0x23, 0xC3, 0x18, 0x96, 0x05, 0x9A, 0x07, 0x12, 0x80, 0xE2, 0xEB, 0x27, 0xB2, 0x75, 0x09, 0x83, 0x2C, 0x1A, 0x1B, 0x6E, 0x5A, 0xA0, 0x52, 0x3B, 0xD6, 0xB3, 0x29, 0xE3, 0x2F, 0x84, 0x53, 0xD1, 0x00, 0xED, 0x20, 0xFC, 0xB1, 0x5B, 0x6A, 0xCB, 0xBE, 0x39, 0x4A, 0x4C, 0x58, 0xCF, 0xD0, 0xEF, 0xAA, 0xFB, 0x43, 0x4D, 0x33, 0x85, 0x45, 0xF9, 0x02, 0x7F, 0x50, 0x3C, 0x9F, 0xA8, 0x51, 0xA3, 0x40, 0x8F, 0x92, 0x9D, 0x38, 0xF5, 0xBC, 0xB6, 0xDA, 0x21, 0x10, 0xFF, 0xF3, 0xD2, 0xCD, 0x0C, 0x13, 0xEC, 0x5F, 0x97, 0x44, 0x17, 0xC4, 0xA7, 0x7E, 0x3D, 0x64, 0x5D, 0x19, 0x73, 0x60, 0x81, 0x4F, 0xDC, 0x22, 0x2A, 0x90, 0x88, 0x46, 0xEE, 0xB8, 0x14, 0xDE, 0x5E, 0x0B, 0xDB, 0xE0, 0x32, 0x3A, 0x0A, 0x49, 0x06, 0x24, 0x5C, 0xC2, 0xD3, 0xAC, 0x62, 0x91, 0x95, 0xE4, 0x79, 0xE7, 0xC8, 0x37, 0x6D, 0x8D, 0xD5, 0x4E, 0xA9, 0x6C, 0x56, 0xF4, 0xEA, 0x65, 0x7A, 0xAE, 0x08, 0xBA, 0x78, 0x25, 0x2E, 0x1C, 0xA6, 0xB4, 0xC6, 0xE8, 0xDD, 0x74, 0x1F, 0x4B, 0xBD, 0x8B, 0x8A, 0x70, 0x3E, 0xB5, 0x66, 0x48, 0x03, 0xF6, 0x0E, 0x61, 0x35, 0x57, 0xB9, 0x86, 0xC1, 0x1D, 0x9E, 0xE1, 0xF8, 0x98, 0x11, 0x69, 0xD9, 0x8E, 0x94, 0x9B, 0x1E, 0x87, 0xE9, 0xCE, 0x55, 0x28, 0xDF, 0x8C, 0xA1, 0x89, 0x0D, 0xBF, 0xE6, 0x42, 0x68, 0x41, 0x99, 0x2D, 0x0F, 0xB0, 0x54, 0xBB, 0x16]\n",
        "\n",
        "# bin 파일 로드\n",
        "with open(\"tyboxes_dump.bin\", \"rb\") as f:\n",
        "    raw = f.read()\n",
        "\n",
        "# 총 개수 확인\n",
        "assert len(raw) == 9 * 16 * 256 * 4\n",
        "\n",
        "# numpy 배열로 변환 (Little-endian uint32)\n",
        "tyboxes_flat = np.frombuffer(raw, dtype=\"<u4\")  # \"<u4\" = little-endian uint32\n",
        "\n",
        "# 모양 맞게 reshape\n",
        "Tyboxes = tyboxes_flat.reshape((9, 16, 256))  # [round][pos][input]\n",
        "\n",
        "\n",
        "def shiftrows_key(key_16):\n",
        "    # input: list of 16 bytes\n",
        "    shifts = [0, 5, 10, 15, 4, 9, 14, 3, 8, 13, 2, 7, 12, 1, 6, 11]\n",
        "    shift_key = [0] * 16\n",
        "    for i, v in enumerate(key_16):\n",
        "        shift_key[shifts[i]] = v\n",
        "    return shift_key\n",
        "\n",
        "\n",
        "def recover_master_key(tyboxes, sbox):\n",
        "    k0 = []\n",
        "    for pos in range(16):\n",
        "        tb = tyboxes[0][pos]\n",
        "        k0.append(tb.tolist().index(0) ^ 82)\n",
        "\n",
        "    return k0\n",
        "\n",
        "master_key = recover_master_key(Tyboxes, AES_SBOX)\n",
        "print(\"Recovered k0:\", \" \".join(f\"{b:02x}\" for b in master_key))\n",
        "\n",
        "master_key_shifted = shiftrows_key(master_key)\n",
        "print(\"Recovered Master Key:\", \" \".join(f\"{b:02x}\" for b in master_key_shifted))"
      ],
      "metadata": {
        "colab": {
          "base_uri": "https://localhost:8080/"
        },
        "id": "JuD8jpR8u4Nn",
        "outputId": "6e049e5b-3194-4f9d-fa76-c87b0e8b581e"
      },
      "execution_count": 4,
      "outputs": [
        {
          "output_type": "stream",
          "name": "stdout",
          "text": [
            "Recovered k0: 43 43 73 35 74 65 32 70 74 30 79 6e 32 72 6f 74\n",
            "Recovered Master Key: 43 72 79 70 74 43 6f 6e 74 65 73 74 32 30 32 35\n"
          ]
        }
      ]
    },
    {
      "cell_type": "code",
      "source": [
        "print(''.join(map(lambda x: chr(int(x, base=16)), '43 72 79 70 74 43 6f 6e 74 65 73 74 32 30 32 35'.split())))\n",
        "print(AES_SBOX.index(0x00))"
      ],
      "metadata": {
        "id": "BAkIXlgits-h",
        "colab": {
          "base_uri": "https://localhost:8080/"
        },
        "outputId": "ffb3bdde-7e1a-4569-ec56-790357d13d14"
      },
      "execution_count": null,
      "outputs": [
        {
          "output_type": "stream",
          "name": "stdout",
          "text": [
            "CryptContest2025\n",
            "82\n"
          ]
        }
      ]
    },
    {
      "cell_type": "code",
      "source": [
        "!pip install PyCryptodome"
      ],
      "metadata": {
        "colab": {
          "base_uri": "https://localhost:8080/"
        },
        "id": "nQkDOVh0Y99H",
        "outputId": "1ed9015f-a646-436f-8e03-1db335985801"
      },
      "execution_count": 5,
      "outputs": [
        {
          "output_type": "stream",
          "name": "stdout",
          "text": [
            "Collecting PyCryptodome\n",
            "  Downloading pycryptodome-3.23.0-cp37-abi3-manylinux_2_17_x86_64.manylinux2014_x86_64.whl.metadata (3.4 kB)\n",
            "Downloading pycryptodome-3.23.0-cp37-abi3-manylinux_2_17_x86_64.manylinux2014_x86_64.whl (2.3 MB)\n",
            "\u001b[2K   \u001b[90m━━━━━━━━━━━━━━━━━━━━━━━━━━━━━━━━━━━━━━━━\u001b[0m \u001b[32m2.3/2.3 MB\u001b[0m \u001b[31m24.5 MB/s\u001b[0m eta \u001b[36m0:00:00\u001b[0m\n",
            "\u001b[?25hInstalling collected packages: PyCryptodome\n",
            "Successfully installed PyCryptodome-3.23.0\n"
          ]
        }
      ]
    },
    {
      "cell_type": "code",
      "source": [
        "from Crypto.Cipher import AES\n",
        "import binascii\n",
        "\n",
        "msg = bytes([0x00, 0x00, 0x00, 0x00, 0x00, 0x00, 0x00, 0x00, 0x00, 0x00, 0x00, 0x00, 0x00, 0x00, 0x00, 0x00])\n",
        "\n",
        "cipher = AES.new(b'CryptContest2025', AES.MODE_ECB)\n",
        "ciphertext = cipher.encrypt(msg)\n",
        "\n",
        "print(ciphertext) # wbcaes128.c 로 암호화한 결과와 일치"
      ],
      "metadata": {
        "colab": {
          "base_uri": "https://localhost:8080/"
        },
        "id": "4jvjClFna9im",
        "outputId": "d7bc1aba-81c8-4b24-bfe0-05b3de5233cd"
      },
      "execution_count": 49,
      "outputs": [
        {
          "output_type": "stream",
          "name": "stdout",
          "text": [
            "b'\\x97\\xab\\x99\\x92\\t\\xe8Ir\\x9d\\x10\\xa1\\xb9\\x85\\xcd\\x90\\xdc'\n"
          ]
        }
      ]
    },
    {
      "cell_type": "code",
      "source": [],
      "metadata": {
        "id": "I8TnqnQPcLF1"
      },
      "execution_count": null,
      "outputs": []
    }
  ]
}