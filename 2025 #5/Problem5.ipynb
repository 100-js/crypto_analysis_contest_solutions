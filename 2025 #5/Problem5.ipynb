{
  "nbformat": 4,
  "nbformat_minor": 0,
  "metadata": {
    "colab": {
      "provenance": [],
      "collapsed_sections": [
        "janhmWoboRPr"
      ]
    },
    "kernelspec": {
      "name": "python3",
      "display_name": "Python 3"
    },
    "language_info": {
      "name": "python"
    }
  },
  "cells": [
    {
      "cell_type": "markdown",
      "source": [
        "### 문제 상황 분석\n",
        "\n",
        "→ $bG$와 $abG$는 $E': y^2 = x^3 - 3x \\in F_p$ 위의 점"
      ],
      "metadata": {
        "id": "janhmWoboRPr"
      }
    },
    {
      "cell_type": "code",
      "source": [
        "!pip install ecpy"
      ],
      "metadata": {
        "colab": {
          "base_uri": "https://localhost:8080/"
        },
        "id": "-BWbAEvvoTCj",
        "outputId": "83797909-d6c6-4f68-d805-ae2fc3b16d9e"
      },
      "execution_count": null,
      "outputs": [
        {
          "output_type": "stream",
          "name": "stdout",
          "text": [
            "Collecting ecpy\n",
            "  Downloading ECPy-1.2.5-py3-none-any.whl.metadata (3.5 kB)\n",
            "Downloading ECPy-1.2.5-py3-none-any.whl (43 kB)\n",
            "\u001b[?25l   \u001b[90m━━━━━━━━━━━━━━━━━━━━━━━━━━━━━━━━━━━━━━━━\u001b[0m \u001b[32m0.0/43.1 kB\u001b[0m \u001b[31m?\u001b[0m eta \u001b[36m-:--:--\u001b[0m\r\u001b[2K   \u001b[90m━━━━━━━━━━━━━━━━━━━━━━━━━━━━━━━━━━━━━━━━\u001b[0m \u001b[32m43.1/43.1 kB\u001b[0m \u001b[31m1.3 MB/s\u001b[0m eta \u001b[36m0:00:00\u001b[0m\n",
            "\u001b[?25hInstalling collected packages: ecpy\n",
            "Successfully installed ecpy-1.2.5\n"
          ]
        }
      ]
    },
    {
      "cell_type": "code",
      "source": [
        "from ecpy.curves import Curve,Point\n",
        "from hashlib import sha256"
      ],
      "metadata": {
        "id": "VLHUM-gMocRq"
      },
      "execution_count": null,
      "outputs": []
    },
    {
      "cell_type": "code",
      "source": [
        "p = 0x1ffffffffffffffffffffffffffffffffffffffffffffffffffffffffffffffffffffffffffffffffffffffffffffffffffffffffffffffffffffffffffffffffff\n",
        "b = 0x051953eb9618e1c9a1f929a21a0b68540eea2da725b99b315f3b8b489918ef109e156193951ec7e937b1652c0bd3bb1bf073573df883d2c34f1ef451fd46b503f00\n",
        "Gx = 0xc6858e06b70404e9cd9e3ecb662395b4429c648139053fb521f828af606b4d3dbaa14b5e77efe75928fe1dc127a2ffa8de3348b3c1856a429bf97e7e31c2e5bd66\n",
        "Gy = 0x11839296a789a3bc0045c8a5fb42c7d1bd998f54449579b446817afbd17273e662c97ee72995ef42640c550b9013fad0761353c7086a272c24088be94769fd16650\n",
        "n = 0x1fffffffffffffffffffffffffffffffffffffffffffffffffffffffffffffffffa51868783bf2f966b7fcc0148f709a5d03bb5c9b8899c47aebb6fb71e91386409\n",
        "\n",
        "E = Curve.get_curve('secp521r1')\n",
        "G = Point(Gx, Gy, E)"
      ],
      "metadata": {
        "id": "--mFIr6EoeAK"
      },
      "execution_count": null,
      "outputs": []
    },
    {
      "cell_type": "code",
      "source": [
        "aGx = 0x0000000000000147362b1ed07c17feffadd963c398e7d3376eebd2bdfca7b92c873c82bd6c0e4ec6c15ebeee2062c10d3394260b8c964659b6a4c9e3d27c8fda926f7bf0bd31e819\n",
        "aGy = 0x0000000000000121e806baa3a46652ae6caca563359403ad474715481970356c2c4bfb3767f2db0ec9f5a1b517a7b2cd2e8007939ac1284d01e8121b31b0af2eace1eee5e7f0e2a4\n",
        "bGx = 0x000000000000014a3ad15b04eeef7042f1bc7c1c30b24388430db032ec6c009d2460833eb1bdb8f91cb509a50da7f7735b81a9ef5aa95c8d7a10b228a644d8bbb8f45d634b053022\n",
        "bGy = 0x00000000000000efa32abda489cc48b1ff9b97fd3ede2b3a382d12270cfe36def7c2531aef6c7d8ccdb09f562c40096c6a36cea86e5477cf24fa5a4b7a04f6aca9cd89ba403bf4c0\n",
        "\n",
        "aG = Point(aGx, aGy, E)\n",
        "print((bGx ** 3 - 3 * bGx) % p == bGy ** 2 % p)"
      ],
      "metadata": {
        "colab": {
          "base_uri": "https://localhost:8080/"
        },
        "id": "jM5iCLtRofsq",
        "outputId": "7fdc95ac-00de-43c2-fc0a-eef635fa85f6"
      },
      "execution_count": null,
      "outputs": [
        {
          "output_type": "stream",
          "name": "stdout",
          "text": [
            "True\n"
          ]
        }
      ]
    },
    {
      "cell_type": "code",
      "source": [
        "abGx = 0x0077e4b10dd38932457fd96eb1852129f09c1c0ed2973b09e1b8d8b8caf95da0bdcd99d744a0e4f84734e3a1aed4562ed376b3689beedff67d0b42b415e743608a19\n",
        "abGy = 0x0156ece822bc48e444e8e8435c8f7ba66da953c82e6629b3f7456566c5f61fb88b65a9d4cea62299bd1b3d7e652382b8c1afcbe938a04abb57108116ffe83d172d0a\n",
        "z = 0x4dcbafbe63fdcdbe59ff00f8540fae3d01967713a9cb3248495398d21a96f807\n",
        "r = 0x000000000000014ea73daf911317794b0686862e1f35c7eecc79e2e3f152fe32ee14349f8aaae764da51066050faf6f47571df1797b6f076b06df0f31a670ade73b9699c327dbbf4\n",
        "s = 0x0000000000000087f6eab4762228518bd8e7eefc0008638d14377fcc710ca02c1f0acb7b8348332ad9a1d0b881d6e070c49998fc42ac29c51e10e6372f6d08b760a16e506a28570a\n",
        "\n",
        "print((abGx ** 3 - 3 * abGx) % p == abGy ** 2 % p)\n",
        "kG = Point(r, E.y_recover(r), E)"
      ],
      "metadata": {
        "colab": {
          "base_uri": "https://localhost:8080/"
        },
        "id": "ljZT98HGohY8",
        "outputId": "e745183b-9c5f-4906-c211-1739be77f874"
      },
      "execution_count": null,
      "outputs": [
        {
          "output_type": "stream",
          "name": "stdout",
          "text": [
            "True\n"
          ]
        }
      ]
    },
    {
      "cell_type": "code",
      "source": [
        "invs = pow(s, -1, n)\n",
        "print(E.add_point(E.mul_point(invs * z, G), E.mul_point(invs * r, aG)).x == r)"
      ],
      "metadata": {
        "colab": {
          "base_uri": "https://localhost:8080/"
        },
        "id": "cdS0IOHqojFx",
        "outputId": "74ed98a0-f446-4912-f045-5a8e33b5d8b6"
      },
      "execution_count": null,
      "outputs": [
        {
          "output_type": "stream",
          "name": "stdout",
          "text": [
            "True\n"
          ]
        }
      ]
    },
    {
      "cell_type": "markdown",
      "source": [
        "### MOV attack via SageMath\n",
        "\n",
        "https://crypto.stanford.edu/pbc/thesis.html\n",
        "\n",
        "https://github.com/jvdsn/crypto-attacks/blob/master/attacks/ecc/mov_attack.py"
      ],
      "metadata": {
        "id": "tz6PRh-boJX0"
      }
    },
    {
      "cell_type": "code",
      "execution_count": null,
      "metadata": {
        "id": "c2Cd2PSXxGYf"
      },
      "outputs": [],
      "source": [
        "import hashlib"
      ]
    },
    {
      "cell_type": "code",
      "source": [
        "input_string = \"0077e4b10dd38932457fd96eb1852129f09c1c0ed2973b09e1b8d8b8caf95da0bdcd99d744a0e4f84734e3a1aed4562ed376b3689beedff67d0b42b415e743608a190156ece822bc48e444e8e8435c8f7ba66da953c82e6629b3f7456566c5f61fb88b65a9d4cea62299bd1b3d7e652382b8c1afcbe938a04abb57108116ffe83d172d0a\""
      ],
      "metadata": {
        "id": "34A5QgbexhZ8"
      },
      "execution_count": null,
      "outputs": []
    },
    {
      "cell_type": "code",
      "source": [
        "encoded_string = input_string.encode()"
      ],
      "metadata": {
        "id": "fcCnQ-i2xoOy"
      },
      "execution_count": null,
      "outputs": []
    },
    {
      "cell_type": "code",
      "source": [
        "sha256_hash = hashlib.sha256()"
      ],
      "metadata": {
        "id": "hZeIRc70xvYQ"
      },
      "execution_count": null,
      "outputs": []
    },
    {
      "cell_type": "code",
      "source": [
        "sha256_hash.update(encoded_string)"
      ],
      "metadata": {
        "id": "ExVmfh68x68z"
      },
      "execution_count": null,
      "outputs": []
    },
    {
      "cell_type": "code",
      "source": [
        "hash_result = sha256_hash.hexdigest()"
      ],
      "metadata": {
        "id": "4QcKE9OEx_O4"
      },
      "execution_count": null,
      "outputs": []
    },
    {
      "cell_type": "code",
      "source": [
        "print(f\"Original String : {input_string}\")\n",
        "print(f\"SHA-256 Hash : {hash_result}\")"
      ],
      "metadata": {
        "colab": {
          "base_uri": "https://localhost:8080/"
        },
        "id": "l2Njo7uJyF9g",
        "outputId": "00310046-cd9e-4658-80a6-332be77fe6c3"
      },
      "execution_count": null,
      "outputs": [
        {
          "output_type": "stream",
          "name": "stdout",
          "text": [
            "Original String : 0077e4b10dd38932457fd96eb1852129f09c1c0ed2973b09e1b8d8b8caf95da0bdcd99d744a0e4f84734e3a1aed4562ed376b3689beedff67d0b42b415e743608a190156ece822bc48e444e8e8435c8f7ba66da953c82e6629b3f7456566c5f61fb88b65a9d4cea62299bd1b3d7e652382b8c1afcbe938a04abb57108116ffe83d172d0a\n",
            "SHA-256 Hash : 4dcbafbe63fdcdbe59ff00f8540fae3d01967713a9cb3248495398d21a96f807\n"
          ]
        }
      ]
    },
    {
      "cell_type": "code",
      "source": [
        "pip install pycryptodome"
      ],
      "metadata": {
        "colab": {
          "base_uri": "https://localhost:8080/"
        },
        "id": "aPgZXm2nFYlx",
        "outputId": "d6fc39dc-1c7f-41be-a75f-af67c18086fd"
      },
      "execution_count": null,
      "outputs": [
        {
          "output_type": "stream",
          "name": "stdout",
          "text": [
            "Collecting pycryptodome\n",
            "  Downloading pycryptodome-3.23.0-cp37-abi3-manylinux_2_17_x86_64.manylinux2014_x86_64.whl.metadata (3.4 kB)\n",
            "Downloading pycryptodome-3.23.0-cp37-abi3-manylinux_2_17_x86_64.manylinux2014_x86_64.whl (2.3 MB)\n",
            "\u001b[2K   \u001b[90m━━━━━━━━━━━━━━━━━━━━━━━━━━━━━━━━━━━━━━━━\u001b[0m \u001b[32m2.3/2.3 MB\u001b[0m \u001b[31m23.2 MB/s\u001b[0m eta \u001b[36m0:00:00\u001b[0m\n",
            "\u001b[?25hInstalling collected packages: pycryptodome\n",
            "Successfully installed pycryptodome-3.23.0\n"
          ]
        }
      ]
    },
    {
      "cell_type": "code",
      "source": [
        "from Crypto.PublicKey import ECC\n",
        "\n",
        "key = ECC.generate(curve='P-521')\n",
        "point = ECC.EccPoint(int(\"0xc6858e06b70404e9cd9e3ecb662395b4429c648139053fb521f828af606b4d3dbaa14b5e77efe75928fe1dc127a2ffa8de3348b3c1856a429bf97e7e31c2e5bd66\", 0),\n",
        "                     int(\"0x11839296a789a3bc0045c8a5fb42c7d1bd998f54449579b446817afbd17273e662c97ee72995ef42640c550b9013fad0761353c7086a272c24088be94769fd16650\", 0),\n",
        "                     curve = \"P-521\")"
      ],
      "metadata": {
        "id": "ua0MkkTayVO5"
      },
      "execution_count": null,
      "outputs": []
    },
    {
      "cell_type": "code",
      "source": [
        "for i in range(1000000):\n",
        "  xcoord = hex((i * point).x)\n",
        "  if xcoord == \"0x14ea73daf911317794b0686862e1f35c7eecc79e2e3f152fe32ee14349f8aaae764da51066050faf6f47571df1797b6f076b06df0f31a670ade73b9699c327dbbf4\":\n",
        "    print(\"success\")\n",
        "    print(i)"
      ],
      "metadata": {
        "id": "gmUQ4PsYIr3Q",
        "colab": {
          "base_uri": "https://localhost:8080/",
          "height": 373
        },
        "outputId": "6571e5c8-e406-4618-8c95-8b35cbb973f1"
      },
      "execution_count": null,
      "outputs": [
        {
          "output_type": "error",
          "ename": "KeyboardInterrupt",
          "evalue": "",
          "traceback": [
            "\u001b[0;31m---------------------------------------------------------------------------\u001b[0m",
            "\u001b[0;31mKeyboardInterrupt\u001b[0m                         Traceback (most recent call last)",
            "\u001b[0;32m<ipython-input-11-e6c69edbb3ca>\u001b[0m in \u001b[0;36m<cell line: 0>\u001b[0;34m()\u001b[0m\n\u001b[1;32m      1\u001b[0m \u001b[0;32mfor\u001b[0m \u001b[0mi\u001b[0m \u001b[0;32min\u001b[0m \u001b[0mrange\u001b[0m\u001b[0;34m(\u001b[0m\u001b[0;36m1000000\u001b[0m\u001b[0;34m)\u001b[0m\u001b[0;34m:\u001b[0m\u001b[0;34m\u001b[0m\u001b[0;34m\u001b[0m\u001b[0m\n\u001b[0;32m----> 2\u001b[0;31m   \u001b[0mxcoord\u001b[0m \u001b[0;34m=\u001b[0m \u001b[0mhex\u001b[0m\u001b[0;34m(\u001b[0m\u001b[0;34m(\u001b[0m\u001b[0mi\u001b[0m \u001b[0;34m*\u001b[0m \u001b[0mpoint\u001b[0m\u001b[0;34m)\u001b[0m\u001b[0;34m.\u001b[0m\u001b[0mx\u001b[0m\u001b[0;34m)\u001b[0m\u001b[0;34m\u001b[0m\u001b[0;34m\u001b[0m\u001b[0m\n\u001b[0m\u001b[1;32m      3\u001b[0m   \u001b[0;32mif\u001b[0m \u001b[0mxcoord\u001b[0m \u001b[0;34m==\u001b[0m \u001b[0;34m\"0x14ea73daf911317794b0686862e1f35c7eecc79e2e3f152fe32ee14349f8aaae764da51066050faf6f47571df1797b6f076b06df0f31a670ade73b9699c327dbbf4\"\u001b[0m\u001b[0;34m:\u001b[0m\u001b[0;34m\u001b[0m\u001b[0;34m\u001b[0m\u001b[0m\n\u001b[1;32m      4\u001b[0m     \u001b[0mprint\u001b[0m\u001b[0;34m(\u001b[0m\u001b[0;34m\"success\"\u001b[0m\u001b[0;34m)\u001b[0m\u001b[0;34m\u001b[0m\u001b[0;34m\u001b[0m\u001b[0m\n\u001b[1;32m      5\u001b[0m     \u001b[0mprint\u001b[0m\u001b[0;34m(\u001b[0m\u001b[0mi\u001b[0m\u001b[0;34m)\u001b[0m\u001b[0;34m\u001b[0m\u001b[0;34m\u001b[0m\u001b[0m\n",
            "\u001b[0;32m/usr/local/lib/python3.11/dist-packages/Crypto/PublicKey/_point.py\u001b[0m in \u001b[0;36m__rmul__\u001b[0;34m(self, left_hand)\u001b[0m\n\u001b[1;32m    334\u001b[0m \u001b[0;34m\u001b[0m\u001b[0m\n\u001b[1;32m    335\u001b[0m     \u001b[0;32mdef\u001b[0m \u001b[0m__rmul__\u001b[0m\u001b[0;34m(\u001b[0m\u001b[0mself\u001b[0m\u001b[0;34m,\u001b[0m \u001b[0mleft_hand\u001b[0m\u001b[0;34m)\u001b[0m\u001b[0;34m:\u001b[0m\u001b[0;34m\u001b[0m\u001b[0;34m\u001b[0m\u001b[0m\n\u001b[0;32m--> 336\u001b[0;31m         \u001b[0;32mreturn\u001b[0m \u001b[0mself\u001b[0m\u001b[0;34m.\u001b[0m\u001b[0m__mul__\u001b[0m\u001b[0;34m(\u001b[0m\u001b[0mleft_hand\u001b[0m\u001b[0;34m)\u001b[0m\u001b[0;34m\u001b[0m\u001b[0;34m\u001b[0m\u001b[0m\n\u001b[0m\u001b[1;32m    337\u001b[0m \u001b[0;34m\u001b[0m\u001b[0m\n\u001b[1;32m    338\u001b[0m \u001b[0;34m\u001b[0m\u001b[0m\n",
            "\u001b[0;32m/usr/local/lib/python3.11/dist-packages/Crypto/PublicKey/_point.py\u001b[0m in \u001b[0;36m__mul__\u001b[0;34m(self, scalar)\u001b[0m\n\u001b[1;32m    329\u001b[0m         \u001b[0;34m\"\"\"Return a new point, the scalar product of this one\"\"\"\u001b[0m\u001b[0;34m\u001b[0m\u001b[0;34m\u001b[0m\u001b[0m\n\u001b[1;32m    330\u001b[0m \u001b[0;34m\u001b[0m\u001b[0m\n\u001b[0;32m--> 331\u001b[0;31m         \u001b[0mnp\u001b[0m \u001b[0;34m=\u001b[0m \u001b[0mself\u001b[0m\u001b[0;34m.\u001b[0m\u001b[0mcopy\u001b[0m\u001b[0;34m(\u001b[0m\u001b[0;34m)\u001b[0m\u001b[0;34m\u001b[0m\u001b[0;34m\u001b[0m\u001b[0m\n\u001b[0m\u001b[1;32m    332\u001b[0m         \u001b[0mnp\u001b[0m \u001b[0;34m*=\u001b[0m \u001b[0mscalar\u001b[0m\u001b[0;34m\u001b[0m\u001b[0;34m\u001b[0m\u001b[0m\n\u001b[1;32m    333\u001b[0m         \u001b[0;32mreturn\u001b[0m \u001b[0mnp\u001b[0m\u001b[0;34m\u001b[0m\u001b[0;34m\u001b[0m\u001b[0m\n",
            "\u001b[0;32m/usr/local/lib/python3.11/dist-packages/Crypto/PublicKey/_point.py\u001b[0m in \u001b[0;36mcopy\u001b[0;34m(self)\u001b[0m\n\u001b[1;32m    229\u001b[0m     \u001b[0;32mdef\u001b[0m \u001b[0mcopy\u001b[0m\u001b[0;34m(\u001b[0m\u001b[0mself\u001b[0m\u001b[0;34m)\u001b[0m\u001b[0;34m:\u001b[0m\u001b[0;34m\u001b[0m\u001b[0;34m\u001b[0m\u001b[0m\n\u001b[1;32m    230\u001b[0m         \u001b[0;34m\"\"\"Return a copy of this point.\"\"\"\u001b[0m\u001b[0;34m\u001b[0m\u001b[0;34m\u001b[0m\u001b[0m\n\u001b[0;32m--> 231\u001b[0;31m         \u001b[0mx\u001b[0m\u001b[0;34m,\u001b[0m \u001b[0my\u001b[0m \u001b[0;34m=\u001b[0m \u001b[0mself\u001b[0m\u001b[0;34m.\u001b[0m\u001b[0mxy\u001b[0m\u001b[0;34m\u001b[0m\u001b[0;34m\u001b[0m\u001b[0m\n\u001b[0m\u001b[1;32m    232\u001b[0m         \u001b[0mnp\u001b[0m \u001b[0;34m=\u001b[0m \u001b[0mEccPoint\u001b[0m\u001b[0;34m(\u001b[0m\u001b[0mx\u001b[0m\u001b[0;34m,\u001b[0m \u001b[0my\u001b[0m\u001b[0;34m,\u001b[0m \u001b[0mself\u001b[0m\u001b[0;34m.\u001b[0m\u001b[0mcurve\u001b[0m\u001b[0;34m)\u001b[0m\u001b[0;34m\u001b[0m\u001b[0;34m\u001b[0m\u001b[0m\n\u001b[1;32m    233\u001b[0m         \u001b[0;32mreturn\u001b[0m \u001b[0mnp\u001b[0m\u001b[0;34m\u001b[0m\u001b[0;34m\u001b[0m\u001b[0m\n",
            "\u001b[0;32m/usr/local/lib/python3.11/dist-packages/Crypto/PublicKey/_point.py\u001b[0m in \u001b[0;36mxy\u001b[0;34m(self)\u001b[0m\n\u001b[1;32m    263\u001b[0m         \u001b[0myb\u001b[0m \u001b[0;34m=\u001b[0m \u001b[0mbytearray\u001b[0m\u001b[0;34m(\u001b[0m\u001b[0mmodulus_bytes\u001b[0m\u001b[0;34m)\u001b[0m\u001b[0;34m\u001b[0m\u001b[0;34m\u001b[0m\u001b[0m\n\u001b[1;32m    264\u001b[0m         \u001b[0mget_xy\u001b[0m \u001b[0;34m=\u001b[0m \u001b[0mself\u001b[0m\u001b[0;34m.\u001b[0m\u001b[0m_curve\u001b[0m\u001b[0;34m.\u001b[0m\u001b[0mrawlib\u001b[0m\u001b[0;34m.\u001b[0m\u001b[0mget_xy\u001b[0m\u001b[0;34m\u001b[0m\u001b[0;34m\u001b[0m\u001b[0m\n\u001b[0;32m--> 265\u001b[0;31m         result = get_xy(c_uint8_ptr(xb),\n\u001b[0m\u001b[1;32m    266\u001b[0m                         \u001b[0mc_uint8_ptr\u001b[0m\u001b[0;34m(\u001b[0m\u001b[0myb\u001b[0m\u001b[0;34m)\u001b[0m\u001b[0;34m,\u001b[0m\u001b[0;34m\u001b[0m\u001b[0;34m\u001b[0m\u001b[0m\n\u001b[1;32m    267\u001b[0m                         \u001b[0mc_size_t\u001b[0m\u001b[0;34m(\u001b[0m\u001b[0mmodulus_bytes\u001b[0m\u001b[0;34m)\u001b[0m\u001b[0;34m,\u001b[0m\u001b[0;34m\u001b[0m\u001b[0;34m\u001b[0m\u001b[0m\n",
            "\u001b[0;31mKeyboardInterrupt\u001b[0m: "
          ]
        }
      ]
    },
    {
      "cell_type": "code",
      "source": [
        "len(\"0077e4b10dd38932457fd96eb1852129f09c1c0ed2973b09e1b8d8b8caf95da0bdcd99d744a0e4f84734e3a1aed4562ed376b3689beedff67d0b42b415e743608a190156ece822bc48e444e8e8435c8f7ba66da953c82e6629b3f7456566c5f61fb88b65a9d4cea62299bd1b3d7e652382b8c1afcbe938a04abb57108116ffe83d172d0a\")"
      ],
      "metadata": {
        "id": "VMuQZKUgOV6b",
        "outputId": "59104589-235a-4e39-aac9-97732f0e425d",
        "colab": {
          "base_uri": "https://localhost:8080/"
        }
      },
      "execution_count": null,
      "outputs": [
        {
          "output_type": "execute_result",
          "data": {
            "text/plain": [
              "264"
            ]
          },
          "metadata": {},
          "execution_count": 29
        }
      ]
    },
    {
      "cell_type": "code",
      "source": [
        "r = int(\"0x000000000000014ea73daf911317794b0686862e1f35c7eecc79e2e3f152fe32ee14349f8aaae764da51066050faf6f47571df1797b6f076b06df0f31a670ade73b9699c327dbbf4\", 0)\n",
        "s = int(\"0x0000000000000087f6eab4762228518bd8e7eefc0008638d14377fcc710ca02c1f0acb7b8348332ad9a1d0b881d6e070c49998fc42ac29c51e10e6372f6d08b760a16e506a28570a\", 0)\n",
        "n = int(\"0x1fffffffffffffffffffffffffffffffffffffffffffffffffffffffffffffffffa51868783bf2f966b7fcc0148f709a5d03bb5c9b8899c47aebb6fb71e91386409\", 0)\n",
        "public_point = ECC.EccPoint(int(\"0x000000000000014a3ad15b04eeef7042f1bc7c1c30b24388430db032ec6c009d2460833eb1bdb8f91cb509a50da7f7735b81a9ef5aa95c8d7a10b228a644d8bbb8f45d634b053022\", 0),\n",
        "                            int(\"0x00000000000000efa32abda489cc48b1ff9b97fd3ede2b3a382d12270cfe36def7c2531aef6c7d8ccdb09f562c40096c6a36cea86e5477cf24fa5a4b7a04f6aca9cd89ba403bf4c0\", 0),\n",
        "                            curve = \"P-521\")"
      ],
      "metadata": {
        "colab": {
          "base_uri": "https://localhost:8080/",
          "height": 349
        },
        "id": "hUQQYDaxzpoN",
        "outputId": "32140daa-52b5-4513-feb8-e7c3367b8b08"
      },
      "execution_count": null,
      "outputs": [
        {
          "output_type": "error",
          "ename": "ValueError",
          "evalue": "The EC point does not belong to the curve",
          "traceback": [
            "\u001b[0;31m---------------------------------------------------------------------------\u001b[0m",
            "\u001b[0;31mValueError\u001b[0m                                Traceback (most recent call last)",
            "\u001b[0;32m<ipython-input-18-f62e7521b0ae>\u001b[0m in \u001b[0;36m<cell line: 0>\u001b[0;34m()\u001b[0m\n\u001b[1;32m      2\u001b[0m \u001b[0ms\u001b[0m \u001b[0;34m=\u001b[0m \u001b[0mint\u001b[0m\u001b[0;34m(\u001b[0m\u001b[0;34m\"0x0000000000000087f6eab4762228518bd8e7eefc0008638d14377fcc710ca02c1f0acb7b8348332ad9a1d0b881d6e070c49998fc42ac29c51e10e6372f6d08b760a16e506a28570a\"\u001b[0m\u001b[0;34m,\u001b[0m \u001b[0;36m0\u001b[0m\u001b[0;34m)\u001b[0m\u001b[0;34m\u001b[0m\u001b[0;34m\u001b[0m\u001b[0m\n\u001b[1;32m      3\u001b[0m \u001b[0mn\u001b[0m \u001b[0;34m=\u001b[0m \u001b[0mint\u001b[0m\u001b[0;34m(\u001b[0m\u001b[0;34m\"0x1fffffffffffffffffffffffffffffffffffffffffffffffffffffffffffffffffa51868783bf2f966b7fcc0148f709a5d03bb5c9b8899c47aebb6fb71e91386409\"\u001b[0m\u001b[0;34m,\u001b[0m \u001b[0;36m0\u001b[0m\u001b[0;34m)\u001b[0m\u001b[0;34m\u001b[0m\u001b[0;34m\u001b[0m\u001b[0m\n\u001b[0;32m----> 4\u001b[0;31m public_point = ECC.EccPoint(int(\"0x000000000000014a3ad15b04eeef7042f1bc7c1c30b24388430db032ec6c009d2460833eb1bdb8f91cb509a50da7f7735b81a9ef5aa95c8d7a10b228a644d8bbb8f45d634b053022\", 0),\n\u001b[0m\u001b[1;32m      5\u001b[0m                             \u001b[0mint\u001b[0m\u001b[0;34m(\u001b[0m\u001b[0;34m\"0x00000000000000efa32abda489cc48b1ff9b97fd3ede2b3a382d12270cfe36def7c2531aef6c7d8ccdb09f562c40096c6a36cea86e5477cf24fa5a4b7a04f6aca9cd89ba403bf4c0\"\u001b[0m\u001b[0;34m,\u001b[0m \u001b[0;36m0\u001b[0m\u001b[0;34m)\u001b[0m\u001b[0;34m,\u001b[0m\u001b[0;34m\u001b[0m\u001b[0;34m\u001b[0m\u001b[0m\n\u001b[1;32m      6\u001b[0m                             curve = \"P-521\")\n",
            "\u001b[0;32m/usr/local/lib/python3.11/dist-packages/Crypto/PublicKey/_point.py\u001b[0m in \u001b[0;36m__init__\u001b[0;34m(self, x, y, curve)\u001b[0m\n\u001b[1;32m    187\u001b[0m         \u001b[0;32mif\u001b[0m \u001b[0mresult\u001b[0m\u001b[0;34m:\u001b[0m\u001b[0;34m\u001b[0m\u001b[0;34m\u001b[0m\u001b[0m\n\u001b[1;32m    188\u001b[0m             \u001b[0;32mif\u001b[0m \u001b[0mresult\u001b[0m \u001b[0;34m==\u001b[0m \u001b[0;36m15\u001b[0m\u001b[0;34m:\u001b[0m\u001b[0;34m\u001b[0m\u001b[0;34m\u001b[0m\u001b[0m\n\u001b[0;32m--> 189\u001b[0;31m                 \u001b[0;32mraise\u001b[0m \u001b[0mValueError\u001b[0m\u001b[0;34m(\u001b[0m\u001b[0;34m\"The EC point does not belong to the curve\"\u001b[0m\u001b[0;34m)\u001b[0m\u001b[0;34m\u001b[0m\u001b[0;34m\u001b[0m\u001b[0m\n\u001b[0m\u001b[1;32m    190\u001b[0m             \u001b[0;32mraise\u001b[0m \u001b[0mValueError\u001b[0m\u001b[0;34m(\u001b[0m\u001b[0;34m\"Error %d while instantiating an EC point\"\u001b[0m \u001b[0;34m%\u001b[0m \u001b[0mresult\u001b[0m\u001b[0;34m)\u001b[0m\u001b[0;34m\u001b[0m\u001b[0;34m\u001b[0m\u001b[0m\n\u001b[1;32m    191\u001b[0m \u001b[0;34m\u001b[0m\u001b[0m\n",
            "\u001b[0;31mValueError\u001b[0m: The EC point does not belong to the curve"
          ]
        }
      ]
    },
    {
      "cell_type": "code",
      "source": [
        "!pip install -q condacolab\n",
        "import condacolab\n",
        "condacolab.install()\n",
        "!conda create -n sage sage python=3.11"
      ],
      "metadata": {
        "id": "4bWlL-631h6h",
        "collapsed": true
      },
      "execution_count": null,
      "outputs": []
    },
    {
      "cell_type": "code",
      "source": [
        "%%bash\n",
        "source activate sage\n",
        "sage -c '\n",
        "F.<x> = GF(8111)[]\n",
        "K.<x> = GF(8111^3, name='x', modulus=x^3 + 4*x - 11)\n",
        "E  = EllipticCurve(GF(8111), [1,300])\n",
        "E_ = EllipticCurve(K, [1,300])\n",
        "\n",
        "n = E.order()\n",
        "P = E.random_element()\n",
        "Q = ZZ.random_element(n) * P\n",
        "\n",
        "P_ = E_(P)\n",
        "Q_ = E_(Q)\n",
        "\n",
        "R = E_.random_element() * (E_.order() // E.order()^2)\n",
        "\n",
        "\n",
        "W1 = P_.weil_pairing(R, n)\n",
        "W2 = Q_.weil_pairing(R, n)\n",
        "u = log(W2, W1)\n",
        "\n",
        "print(E.random_element())\n",
        "'\n"
      ],
      "metadata": {
        "colab": {
          "base_uri": "https://localhost:8080/"
        },
        "id": "oFFCzyc85lYn",
        "outputId": "40f2c7ed-c471-4562-8aaa-9a983f787c45"
      },
      "execution_count": null,
      "outputs": [
        {
          "output_type": "stream",
          "name": "stdout",
          "text": [
            "(7626 : 985 : 1)\n"
          ]
        }
      ]
    },
    {
      "cell_type": "code",
      "source": [
        "%%bash\n",
        "source activate sage\n",
        "sage -c '\n",
        "def get_embedding_degree(q, n, max_k):\n",
        "    for k in range(1, max_k + 1):\n",
        "        if q ** k % n == 1:\n",
        "            return k\n",
        "\n",
        "    return None\n",
        "\n",
        "P =\n",
        "E = P.curve()\n",
        "q = E.base_ring().order()\n",
        "n = P.order()\n",
        "k = get_embedding_degree(q, n, max_k)\n",
        "'\n"
      ],
      "metadata": {
        "id": "us6J5CFi-b_l"
      },
      "execution_count": null,
      "outputs": []
    },
    {
      "cell_type": "code",
      "source": [
        "%%bash\n",
        "source activate sage\n",
        "sage -c '\n",
        "def get_embedding_degree(q, n, max_k):\n",
        "    for k in range(1, max_k + 1):\n",
        "        if q ** k % n == 1:\n",
        "            return k\n",
        "\n",
        "    return None\n",
        "\n",
        "prime = int(\"0x1ffffffffffffffffffffffffffffffffffffffffffffffffffffffffffffffffffffffffffffffffffffffffffffffffffffffffffffffffffffffffffffffffff\", 0)\n",
        "T.<u> = GF(prime)\n",
        "E = EllipticCurve(T, [-3,0])\n",
        "P = E(int(\"0x000000000000014a3ad15b04eeef7042f1bc7c1c30b24388430db032ec6c009d2460833eb1bdb8f91cb509a50da7f7735b81a9ef5aa95c8d7a10b228a644d8bbb8f45d634b053022\", 0), int(\"0x00000000000000efa32abda489cc48b1ff9b97fd3ede2b3a382d12270cfe36def7c2531aef6c7d8ccdb09f562c40096c6a36cea86e5477cf24fa5a4b7a04f6aca9cd89ba403bf4c0\", 0))\n",
        "q = E.base_ring().order()\n",
        "n = P.order()\n",
        "k = get_embedding_degree(q, n, 6)\n",
        "print(\"Order : 0x%x\"%(n))\n",
        "print(f\"Embedding_degree : {k}\")\n",
        "\n",
        "R = E(int(\"0x0077e4b10dd38932457fd96eb1852129f09c1c0ed2973b09e1b8d8b8caf95da0bdcd99d744a0e4f84734e3a1aed4562ed376b3689beedff67d0b42b415e743608a19\", 0), int(\"0x0156ece822bc48e444e8e8435c8f7ba66da953c82e6629b3f7456566c5f61fb88b65a9d4cea62299bd1b3d7e652382b8c1afcbe938a04abb57108116ffe83d172d0a\", 0))\n",
        "Ek = E.base_extend(GF(q ** k))\n",
        "Pk = Ek(P)\n",
        "Rk = Ek(R)\n",
        "for i in range(2):\n",
        "        Q_ = Ek.random_point()\n",
        "        m = Q_.order()\n",
        "        d = gcd(m, n)\n",
        "        Q = (m // d) * Q_\n",
        "        if Q.order() != n:\n",
        "            continue\n",
        "\n",
        "        if (alpha := Pk.weil_pairing(Q, n)) == 1:\n",
        "            continue\n",
        "\n",
        "        beta = Rk.weil_pairing(Q, n)\n",
        "        l = beta.log(alpha)\n",
        "        print(int(l))\n",
        "'"
      ],
      "metadata": {
        "colab": {
          "base_uri": "https://localhost:8080/"
        },
        "id": "onrPpSDX_EI0",
        "outputId": "23d91168-45c1-4162-cf32-add678fcb141"
      },
      "execution_count": null,
      "outputs": [
        {
          "output_type": "stream",
          "name": "stdout",
          "text": [
            "Order : 0x20000000000000000000000000000000000000000000000000000000000000000000000000000000000000000000000000000000000000000000000000000000000\n",
            "Embedding_degree : 2\n",
            "6636353156423030954015460281173207616818947356563557016949415787028983784744206133554905384474990610636203706728731813205732132665247763852710402389523578039\n",
            "6636353156423030954015460281173207616818947356563557016949415787028983784744206133554905384474990610636203706728731813205732132665247763852710402389523578039\n"
          ]
        }
      ]
    },
    {
      "cell_type": "code",
      "source": [
        "string = \"0077e4b10dd38932457fd96eb1852129f09c1c0ed2973b09e1b8d8b8caf95da0bdcd99d744a0e4f84734e3a1aed4562ed376b3689beedff67d0b42b415e743608a190156ece822bc48e444e8e8435c8f7ba66da953c82e6629b3f7456566c5f61fb88b65a9d4cea62299bd1b3d7e652382b8c1afcbe938a04abb57108116ffe83d172d0a\""
      ],
      "metadata": {
        "id": "2tgRpI92bDkC"
      },
      "execution_count": null,
      "outputs": []
    },
    {
      "cell_type": "code",
      "source": [
        "l = 6636353156423030954015460281173207616818947356563557016949415787028983784744206133554905384474990610636203706728731813205732132665247763852710402389523578039"
      ],
      "metadata": {
        "id": "mln3suozcpoI"
      },
      "execution_count": null,
      "outputs": []
    },
    {
      "cell_type": "code",
      "source": [
        "%%bash\n",
        "source activate sage\n",
        "sage -c '\n",
        "def get_embedding_degree(q, n, max_k):\n",
        "    for k in range(1, max_k + 1):\n",
        "        if q ** k % n == 1:\n",
        "            return k\n",
        "\n",
        "    return None\n",
        "\n",
        "prime = int(\"0x1ffffffffffffffffffffffffffffffffffffffffffffffffffffffffffffffffffffffffffffffffffffffffffffffffffffffffffffffffffffffffffffffffff\", 0)\n",
        "T.<u> = GF(prime)\n",
        "E = EllipticCurve(T, [-3,0])\n",
        "P = E(int(\"0x000000000000014a3ad15b04eeef7042f1bc7c1c30b24388430db032ec6c009d2460833eb1bdb8f91cb509a50da7f7735b81a9ef5aa95c8d7a10b228a644d8bbb8f45d634b053022\", 0), int(\"0x00000000000000efa32abda489cc48b1ff9b97fd3ede2b3a382d12270cfe36def7c2531aef6c7d8ccdb09f562c40096c6a36cea86e5477cf24fa5a4b7a04f6aca9cd89ba403bf4c0\", 0))\n",
        "l = 6636353156423030954015460281173207616818947356563557016949415787028983784744206133554905384474990610636203706728731813205732132665247763852710402389523578039\n",
        "print(l * P)\n",
        "\n",
        "R = E(int(\"0x0077e4b10dd38932457fd96eb1852129f09c1c0ed2973b09e1b8d8b8caf95da0bdcd99d744a0e4f84734e3a1aed4562ed376b3689beedff67d0b42b415e743608a19\", 0), int(\"0x0156ece822bc48e444e8e8435c8f7ba66da953c82e6629b3f7456566c5f61fb88b65a9d4cea62299bd1b3d7e652382b8c1afcbe938a04abb57108116ffe83d172d0a\", 0))\n",
        "'"
      ],
      "metadata": {
        "colab": {
          "base_uri": "https://localhost:8080/"
        },
        "id": "pnQJLeihdxQX",
        "outputId": "0a2a7602-7473-46af-bb1f-d30f7d6553a7"
      },
      "execution_count": null,
      "outputs": [
        {
          "output_type": "stream",
          "name": "stdout",
          "text": [
            "(1607506695533915168913417514129143762872077615212195943462010208066541318969061499678408445459869097546734041733807780533887146928868003145080265201175005721 : 4597878126899075508399676260057978682217677048056736560473806697020451296805072276889494793144884330184511031480865289479386479886709132805344923637371055370 : 1)\n"
          ]
        }
      ]
    },
    {
      "cell_type": "code",
      "source": [
        "print(\"%x\"%(1607506695533915168913417514129143762872077615212195943462010208066541318969061499678408445459869097546734041733807780533887146928868003145080265201175005721))"
      ],
      "metadata": {
        "colab": {
          "base_uri": "https://localhost:8080/"
        },
        "id": "uLBMQ17Hd9rX",
        "outputId": "c4be708b-b1ca-4f05-f197-257db4fb616e"
      },
      "execution_count": null,
      "outputs": [
        {
          "output_type": "stream",
          "name": "stdout",
          "text": [
            "77e4b10dd38932457fd96eb1852129f09c1c0ed2973b09e1b8d8b8caf95da0bdcd99d744a0e4f84734e3a1aed4562ed376b3689beedff67d0b42b415e743608a19\n"
          ]
        }
      ]
    },
    {
      "cell_type": "code",
      "source": [
        "print(\"%x\"%(4597878126899075508399676260057978682217677048056736560473806697020451296805072276889494793144884330184511031480865289479386479886709132805344923637371055370))"
      ],
      "metadata": {
        "colab": {
          "base_uri": "https://localhost:8080/"
        },
        "id": "MFDGyuqdeJ5U",
        "outputId": "c0f982d3-4258-4c2e-d514-91055e586107"
      },
      "execution_count": null,
      "outputs": [
        {
          "output_type": "stream",
          "name": "stdout",
          "text": [
            "156ece822bc48e444e8e8435c8f7ba66da953c82e6629b3f7456566c5f61fb88b65a9d4cea62299bd1b3d7e652382b8c1afcbe938a04abb57108116ffe83d172d0a\n"
          ]
        }
      ]
    }
  ]
}